{
 "cells": [
  {
   "cell_type": "code",
   "execution_count": 75,
   "id": "4fdeb171",
   "metadata": {},
   "outputs": [],
   "source": [
    "import pandas as pd"
   ]
  },
  {
   "cell_type": "code",
   "execution_count": 76,
   "id": "f74a0eb1",
   "metadata": {},
   "outputs": [],
   "source": [
    "import ssl\n",
    "\n",
    "ssl._create_default_https_context = ssl._create_unverified_context"
   ]
  },
  {
   "cell_type": "code",
   "execution_count": 77,
   "id": "098ca4ec",
   "metadata": {},
   "outputs": [],
   "source": [
    "data = pd.read_html('https://www.officialcharts.com/chart-news/the-best-selling-albums-of-all-time-on-the-official-uk-chart__15551/', header=0)"
   ]
  },
  {
   "cell_type": "code",
   "execution_count": 78,
   "id": "62eaed95",
   "metadata": {},
   "outputs": [],
   "source": [
    "df = data[0]"
   ]
  },
  {
   "cell_type": "code",
   "execution_count": 79,
   "id": "8588120e",
   "metadata": {},
   "outputs": [
    {
     "data": {
      "text/html": [
       "<div>\n",
       "<style scoped>\n",
       "    .dataframe tbody tr th:only-of-type {\n",
       "        vertical-align: middle;\n",
       "    }\n",
       "\n",
       "    .dataframe tbody tr th {\n",
       "        vertical-align: top;\n",
       "    }\n",
       "\n",
       "    .dataframe thead th {\n",
       "        text-align: right;\n",
       "    }\n",
       "</style>\n",
       "<table border=\"1\" class=\"dataframe\">\n",
       "  <thead>\n",
       "    <tr style=\"text-align: right;\">\n",
       "      <th></th>\n",
       "      <th>POS</th>\n",
       "      <th>TITLE</th>\n",
       "      <th>ARTIST</th>\n",
       "      <th>YEAR</th>\n",
       "      <th>HIGH POSN</th>\n",
       "    </tr>\n",
       "  </thead>\n",
       "  <tbody>\n",
       "    <tr>\n",
       "      <th>0</th>\n",
       "      <td>1</td>\n",
       "      <td>GREATEST HITS</td>\n",
       "      <td>QUEEN</td>\n",
       "      <td>1981</td>\n",
       "      <td>1</td>\n",
       "    </tr>\n",
       "    <tr>\n",
       "      <th>1</th>\n",
       "      <td>2</td>\n",
       "      <td>GOLD - GREATEST HITS</td>\n",
       "      <td>ABBA</td>\n",
       "      <td>1992</td>\n",
       "      <td>1</td>\n",
       "    </tr>\n",
       "    <tr>\n",
       "      <th>2</th>\n",
       "      <td>3</td>\n",
       "      <td>SGT PEPPER'S LONELY HEARTS CLUB BAND</td>\n",
       "      <td>BEATLES</td>\n",
       "      <td>1967</td>\n",
       "      <td>1</td>\n",
       "    </tr>\n",
       "    <tr>\n",
       "      <th>3</th>\n",
       "      <td>4</td>\n",
       "      <td>21</td>\n",
       "      <td>ADELE</td>\n",
       "      <td>2011</td>\n",
       "      <td>1</td>\n",
       "    </tr>\n",
       "    <tr>\n",
       "      <th>4</th>\n",
       "      <td>5</td>\n",
       "      <td>WHAT'S THE STORY MORNING GLORY</td>\n",
       "      <td>OASIS</td>\n",
       "      <td>1995</td>\n",
       "      <td>1</td>\n",
       "    </tr>\n",
       "  </tbody>\n",
       "</table>\n",
       "</div>"
      ],
      "text/plain": [
       "   POS                                 TITLE   ARTIST  YEAR  HIGH POSN\n",
       "0    1                         GREATEST HITS    QUEEN  1981          1\n",
       "1    2                  GOLD - GREATEST HITS     ABBA  1992          1\n",
       "2    3  SGT PEPPER'S LONELY HEARTS CLUB BAND  BEATLES  1967          1\n",
       "3    4                                    21    ADELE  2011          1\n",
       "4    5        WHAT'S THE STORY MORNING GLORY    OASIS  1995          1"
      ]
     },
     "execution_count": 79,
     "metadata": {},
     "output_type": "execute_result"
    }
   ],
   "source": [
    "df.head()"
   ]
  },
  {
   "cell_type": "markdown",
   "id": "e5604cc6",
   "metadata": {},
   "source": [
    "1. Zamień nagłówki kolumn na polskie odpowiedniki:"
   ]
  },
  {
   "cell_type": "code",
   "execution_count": 80,
   "id": "ae66c1c2",
   "metadata": {},
   "outputs": [],
   "source": [
    "df.rename(columns={'TITLE':'TYTUŁ','ARTIST':'ARTYSTA','YEAR':'ROK','HIGH POSN':'MAX POZ'},inplace = True)"
   ]
  },
  {
   "cell_type": "code",
   "execution_count": 81,
   "id": "909e272b",
   "metadata": {},
   "outputs": [
    {
     "data": {
      "text/html": [
       "<div>\n",
       "<style scoped>\n",
       "    .dataframe tbody tr th:only-of-type {\n",
       "        vertical-align: middle;\n",
       "    }\n",
       "\n",
       "    .dataframe tbody tr th {\n",
       "        vertical-align: top;\n",
       "    }\n",
       "\n",
       "    .dataframe thead th {\n",
       "        text-align: right;\n",
       "    }\n",
       "</style>\n",
       "<table border=\"1\" class=\"dataframe\">\n",
       "  <thead>\n",
       "    <tr style=\"text-align: right;\">\n",
       "      <th></th>\n",
       "      <th>POS</th>\n",
       "      <th>TYTUŁ</th>\n",
       "      <th>ARTYSTA</th>\n",
       "      <th>ROK</th>\n",
       "      <th>MAX POZ</th>\n",
       "    </tr>\n",
       "  </thead>\n",
       "  <tbody>\n",
       "    <tr>\n",
       "      <th>0</th>\n",
       "      <td>1</td>\n",
       "      <td>GREATEST HITS</td>\n",
       "      <td>QUEEN</td>\n",
       "      <td>1981</td>\n",
       "      <td>1</td>\n",
       "    </tr>\n",
       "    <tr>\n",
       "      <th>1</th>\n",
       "      <td>2</td>\n",
       "      <td>GOLD - GREATEST HITS</td>\n",
       "      <td>ABBA</td>\n",
       "      <td>1992</td>\n",
       "      <td>1</td>\n",
       "    </tr>\n",
       "    <tr>\n",
       "      <th>2</th>\n",
       "      <td>3</td>\n",
       "      <td>SGT PEPPER'S LONELY HEARTS CLUB BAND</td>\n",
       "      <td>BEATLES</td>\n",
       "      <td>1967</td>\n",
       "      <td>1</td>\n",
       "    </tr>\n",
       "    <tr>\n",
       "      <th>3</th>\n",
       "      <td>4</td>\n",
       "      <td>21</td>\n",
       "      <td>ADELE</td>\n",
       "      <td>2011</td>\n",
       "      <td>1</td>\n",
       "    </tr>\n",
       "    <tr>\n",
       "      <th>4</th>\n",
       "      <td>5</td>\n",
       "      <td>WHAT'S THE STORY MORNING GLORY</td>\n",
       "      <td>OASIS</td>\n",
       "      <td>1995</td>\n",
       "      <td>1</td>\n",
       "    </tr>\n",
       "  </tbody>\n",
       "</table>\n",
       "</div>"
      ],
      "text/plain": [
       "   POS                                 TYTUŁ  ARTYSTA   ROK  MAX POZ\n",
       "0    1                         GREATEST HITS    QUEEN  1981        1\n",
       "1    2                  GOLD - GREATEST HITS     ABBA  1992        1\n",
       "2    3  SGT PEPPER'S LONELY HEARTS CLUB BAND  BEATLES  1967        1\n",
       "3    4                                    21    ADELE  2011        1\n",
       "4    5        WHAT'S THE STORY MORNING GLORY    OASIS  1995        1"
      ]
     },
     "execution_count": 81,
     "metadata": {},
     "output_type": "execute_result"
    }
   ],
   "source": [
    "df.head()"
   ]
  },
  {
   "cell_type": "markdown",
   "id": "815031cd",
   "metadata": {},
   "source": [
    "2. Ilu pojedynczych artystów znajduje się na liście?"
   ]
  },
  {
   "cell_type": "code",
   "execution_count": 82,
   "id": "85c6d1e1",
   "metadata": {},
   "outputs": [
    {
     "data": {
      "text/plain": [
       "47"
      ]
     },
     "execution_count": 82,
     "metadata": {},
     "output_type": "execute_result"
    }
   ],
   "source": [
    "df['ARTYSTA'].nunique()"
   ]
  },
  {
   "cell_type": "markdown",
   "id": "d4ad2bcd",
   "metadata": {},
   "source": [
    "3. Które zespoły pojawiają się najczęściej na liście?"
   ]
  },
  {
   "cell_type": "code",
   "execution_count": 83,
   "id": "ae842fe3",
   "metadata": {},
   "outputs": [
    {
     "data": {
      "text/html": [
       "<div>\n",
       "<style scoped>\n",
       "    .dataframe tbody tr th:only-of-type {\n",
       "        vertical-align: middle;\n",
       "    }\n",
       "\n",
       "    .dataframe tbody tr th {\n",
       "        vertical-align: top;\n",
       "    }\n",
       "\n",
       "    .dataframe thead th {\n",
       "        text-align: right;\n",
       "    }\n",
       "</style>\n",
       "<table border=\"1\" class=\"dataframe\">\n",
       "  <thead>\n",
       "    <tr style=\"text-align: right;\">\n",
       "      <th></th>\n",
       "      <th>ARTYSTA</th>\n",
       "      <th>Count</th>\n",
       "    </tr>\n",
       "  </thead>\n",
       "  <tbody>\n",
       "    <tr>\n",
       "      <th>6</th>\n",
       "      <td>COLDPLAY</td>\n",
       "      <td>3</td>\n",
       "    </tr>\n",
       "    <tr>\n",
       "      <th>42</th>\n",
       "      <td>TAKE THAT</td>\n",
       "      <td>3</td>\n",
       "    </tr>\n",
       "  </tbody>\n",
       "</table>\n",
       "</div>"
      ],
      "text/plain": [
       "      ARTYSTA  Count\n",
       "6    COLDPLAY      3\n",
       "42  TAKE THAT      3"
      ]
     },
     "execution_count": 83,
     "metadata": {},
     "output_type": "execute_result"
    }
   ],
   "source": [
    "df3 = df.groupby('ARTYSTA').size().rename('Count').reset_index().sort_values(by='Count',ascending=False).head(2)\n",
    "df3"
   ]
  },
  {
   "cell_type": "markdown",
   "id": "d4c4eb99",
   "metadata": {},
   "source": [
    "4. Zmień nagłówki kolumn, tak aby każdy z nich rozpoczynał się od wielkiej litery, a pozostałe były wprowadzone małymi literami."
   ]
  },
  {
   "cell_type": "code",
   "execution_count": 84,
   "id": "2891334c",
   "metadata": {},
   "outputs": [
    {
     "data": {
      "text/html": [
       "<div>\n",
       "<style scoped>\n",
       "    .dataframe tbody tr th:only-of-type {\n",
       "        vertical-align: middle;\n",
       "    }\n",
       "\n",
       "    .dataframe tbody tr th {\n",
       "        vertical-align: top;\n",
       "    }\n",
       "\n",
       "    .dataframe thead th {\n",
       "        text-align: right;\n",
       "    }\n",
       "</style>\n",
       "<table border=\"1\" class=\"dataframe\">\n",
       "  <thead>\n",
       "    <tr style=\"text-align: right;\">\n",
       "      <th></th>\n",
       "      <th>Pos</th>\n",
       "      <th>Tytuł</th>\n",
       "      <th>Artysta</th>\n",
       "      <th>Rok</th>\n",
       "      <th>Max poz</th>\n",
       "    </tr>\n",
       "  </thead>\n",
       "  <tbody>\n",
       "    <tr>\n",
       "      <th>0</th>\n",
       "      <td>1</td>\n",
       "      <td>GREATEST HITS</td>\n",
       "      <td>QUEEN</td>\n",
       "      <td>1981</td>\n",
       "      <td>1</td>\n",
       "    </tr>\n",
       "    <tr>\n",
       "      <th>1</th>\n",
       "      <td>2</td>\n",
       "      <td>GOLD - GREATEST HITS</td>\n",
       "      <td>ABBA</td>\n",
       "      <td>1992</td>\n",
       "      <td>1</td>\n",
       "    </tr>\n",
       "    <tr>\n",
       "      <th>2</th>\n",
       "      <td>3</td>\n",
       "      <td>SGT PEPPER'S LONELY HEARTS CLUB BAND</td>\n",
       "      <td>BEATLES</td>\n",
       "      <td>1967</td>\n",
       "      <td>1</td>\n",
       "    </tr>\n",
       "    <tr>\n",
       "      <th>3</th>\n",
       "      <td>4</td>\n",
       "      <td>21</td>\n",
       "      <td>ADELE</td>\n",
       "      <td>2011</td>\n",
       "      <td>1</td>\n",
       "    </tr>\n",
       "    <tr>\n",
       "      <th>4</th>\n",
       "      <td>5</td>\n",
       "      <td>WHAT'S THE STORY MORNING GLORY</td>\n",
       "      <td>OASIS</td>\n",
       "      <td>1995</td>\n",
       "      <td>1</td>\n",
       "    </tr>\n",
       "  </tbody>\n",
       "</table>\n",
       "</div>"
      ],
      "text/plain": [
       "   Pos                                 Tytuł  Artysta   Rok  Max poz\n",
       "0    1                         GREATEST HITS    QUEEN  1981        1\n",
       "1    2                  GOLD - GREATEST HITS     ABBA  1992        1\n",
       "2    3  SGT PEPPER'S LONELY HEARTS CLUB BAND  BEATLES  1967        1\n",
       "3    4                                    21    ADELE  2011        1\n",
       "4    5        WHAT'S THE STORY MORNING GLORY    OASIS  1995        1"
      ]
     },
     "execution_count": 84,
     "metadata": {},
     "output_type": "execute_result"
    }
   ],
   "source": [
    "df.rename(str.capitalize, axis='columns',inplace = True)\n",
    "df.head()"
   ]
  },
  {
   "cell_type": "markdown",
   "id": "1a85e5d7",
   "metadata": {},
   "source": [
    "5. Wyrzuć z tabeli kolumnę ‘Max Poz’"
   ]
  },
  {
   "cell_type": "code",
   "execution_count": 85,
   "id": "951e5a12",
   "metadata": {},
   "outputs": [
    {
     "data": {
      "text/html": [
       "<div>\n",
       "<style scoped>\n",
       "    .dataframe tbody tr th:only-of-type {\n",
       "        vertical-align: middle;\n",
       "    }\n",
       "\n",
       "    .dataframe tbody tr th {\n",
       "        vertical-align: top;\n",
       "    }\n",
       "\n",
       "    .dataframe thead th {\n",
       "        text-align: right;\n",
       "    }\n",
       "</style>\n",
       "<table border=\"1\" class=\"dataframe\">\n",
       "  <thead>\n",
       "    <tr style=\"text-align: right;\">\n",
       "      <th></th>\n",
       "      <th>Pos</th>\n",
       "      <th>Tytuł</th>\n",
       "      <th>Artysta</th>\n",
       "      <th>Rok</th>\n",
       "    </tr>\n",
       "  </thead>\n",
       "  <tbody>\n",
       "    <tr>\n",
       "      <th>0</th>\n",
       "      <td>1</td>\n",
       "      <td>GREATEST HITS</td>\n",
       "      <td>QUEEN</td>\n",
       "      <td>1981</td>\n",
       "    </tr>\n",
       "    <tr>\n",
       "      <th>1</th>\n",
       "      <td>2</td>\n",
       "      <td>GOLD - GREATEST HITS</td>\n",
       "      <td>ABBA</td>\n",
       "      <td>1992</td>\n",
       "    </tr>\n",
       "    <tr>\n",
       "      <th>2</th>\n",
       "      <td>3</td>\n",
       "      <td>SGT PEPPER'S LONELY HEARTS CLUB BAND</td>\n",
       "      <td>BEATLES</td>\n",
       "      <td>1967</td>\n",
       "    </tr>\n",
       "    <tr>\n",
       "      <th>3</th>\n",
       "      <td>4</td>\n",
       "      <td>21</td>\n",
       "      <td>ADELE</td>\n",
       "      <td>2011</td>\n",
       "    </tr>\n",
       "    <tr>\n",
       "      <th>4</th>\n",
       "      <td>5</td>\n",
       "      <td>WHAT'S THE STORY MORNING GLORY</td>\n",
       "      <td>OASIS</td>\n",
       "      <td>1995</td>\n",
       "    </tr>\n",
       "  </tbody>\n",
       "</table>\n",
       "</div>"
      ],
      "text/plain": [
       "   Pos                                 Tytuł  Artysta   Rok\n",
       "0    1                         GREATEST HITS    QUEEN  1981\n",
       "1    2                  GOLD - GREATEST HITS     ABBA  1992\n",
       "2    3  SGT PEPPER'S LONELY HEARTS CLUB BAND  BEATLES  1967\n",
       "3    4                                    21    ADELE  2011\n",
       "4    5        WHAT'S THE STORY MORNING GLORY    OASIS  1995"
      ]
     },
     "execution_count": 85,
     "metadata": {},
     "output_type": "execute_result"
    }
   ],
   "source": [
    "df.drop('Max poz',axis='columns', inplace=True)\n",
    "df.head()"
   ]
  },
  {
   "cell_type": "markdown",
   "id": "19ac2608",
   "metadata": {},
   "source": [
    "6. W którym roku wyszło najwięcej albumów znajdujących się na liście?"
   ]
  },
  {
   "cell_type": "code",
   "execution_count": 86,
   "id": "05b5c683",
   "metadata": {},
   "outputs": [
    {
     "data": {
      "text/html": [
       "<div>\n",
       "<style scoped>\n",
       "    .dataframe tbody tr th:only-of-type {\n",
       "        vertical-align: middle;\n",
       "    }\n",
       "\n",
       "    .dataframe tbody tr th {\n",
       "        vertical-align: top;\n",
       "    }\n",
       "\n",
       "    .dataframe thead th {\n",
       "        text-align: right;\n",
       "    }\n",
       "</style>\n",
       "<table border=\"1\" class=\"dataframe\">\n",
       "  <thead>\n",
       "    <tr style=\"text-align: right;\">\n",
       "      <th></th>\n",
       "      <th>Rok</th>\n",
       "      <th>Count</th>\n",
       "    </tr>\n",
       "  </thead>\n",
       "  <tbody>\n",
       "    <tr>\n",
       "      <th>23</th>\n",
       "      <td>2000</td>\n",
       "      <td>4</td>\n",
       "    </tr>\n",
       "  </tbody>\n",
       "</table>\n",
       "</div>"
      ],
      "text/plain": [
       "     Rok  Count\n",
       "23  2000      4"
      ]
     },
     "execution_count": 86,
     "metadata": {},
     "output_type": "execute_result"
    }
   ],
   "source": [
    "df.groupby(['Rok']).size().rename('Count').reset_index().sort_values(by='Count',ascending=False).head(1)"
   ]
  },
  {
   "cell_type": "markdown",
   "id": "6ad533e8",
   "metadata": {},
   "source": [
    "7. Ile albumów wydanych między 1960 a 1990 rokiem włącznie znajduje się na liście?"
   ]
  },
  {
   "cell_type": "code",
   "execution_count": 92,
   "id": "84cd145e",
   "metadata": {},
   "outputs": [
    {
     "data": {
      "text/plain": [
       "22"
      ]
     },
     "execution_count": 92,
     "metadata": {},
     "output_type": "execute_result"
    }
   ],
   "source": [
    "df[(df['Rok']>=1960) & (df['Rok']<=1990)]['Pos'].nunique()"
   ]
  },
  {
   "cell_type": "markdown",
   "id": "d976bc25",
   "metadata": {},
   "source": [
    "8. W którym roku wydany został najmłodszy album na liście?"
   ]
  },
  {
   "cell_type": "code",
   "execution_count": 135,
   "id": "f55ddd0c",
   "metadata": {},
   "outputs": [
    {
     "data": {
      "text/plain": [
       "1965"
      ]
     },
     "execution_count": 135,
     "metadata": {},
     "output_type": "execute_result"
    }
   ],
   "source": [
    "df.sort_values(by='Rok', ascending=True).head(1)['Rok'].reset_index()._get_value(0, 'Rok')"
   ]
  },
  {
   "cell_type": "markdown",
   "id": "30714258",
   "metadata": {},
   "source": [
    "9. Przygotuj listę najwcześniej wydanych albumów każdego artysty, który znalazł się na liście."
   ]
  },
  {
   "cell_type": "code",
   "execution_count": 136,
   "id": "1977e932",
   "metadata": {},
   "outputs": [],
   "source": [
    "artists = df['Artysta'].unique()\n",
    "earliest_albums = []\n",
    "\n",
    "for artist in artists:\n",
    "    ea = df[df['Artysta']==artist].sort_values(by='Rok', ascending=True).reset_index().head(1)\n",
    "    art = ea._get_value(0, 'Artysta')\n",
    "    album = ea._get_value(0, 'Tytuł')\n",
    "    earliest_albums.append( (art, album) )"
   ]
  },
  {
   "cell_type": "code",
   "execution_count": 139,
   "id": "fd154fe8",
   "metadata": {},
   "outputs": [
    {
     "data": {
      "text/plain": [
       "[('ABBA', 'GREATEST HITS'),\n",
       " ('ADELE', '21'),\n",
       " ('ALANIS MORISSETTE', 'JAGGED LITTLE PILL'),\n",
       " ('AMY WINEHOUSE', 'BACK TO BLACK'),\n",
       " ('BEATLES', \"SGT PEPPER'S LONELY HEARTS CLUB BAND\"),\n",
       " ('BOB MARLEY & THE WAILERS', 'LEGEND'),\n",
       " ('COLDPLAY', 'PARACHUTES'),\n",
       " ('CORRS', 'TALK ON CORNERS'),\n",
       " ('DAVID GRAY', 'WHITE LADDER'),\n",
       " ('DIDO', 'NO ANGEL'),\n",
       " ('DIRE STRAITS', 'BROTHERS IN ARMS'),\n",
       " ('ED SHEERAN', 'X'),\n",
       " ('EMINEM', 'THE MARSHALL MATHERS LP'),\n",
       " ('FLEETWOOD MAC', 'RUMOURS'),\n",
       " ('GEORGE MICHAEL', 'LADIES & GENTLEMEN - THE BEST OF'),\n",
       " ('JAMES BLUNT', 'BACK TO BEDLAM'),\n",
       " ('JEFF WAYNE', 'THE WAR OF THE WORLDS'),\n",
       " ('KEANE', 'HOPES AND FEARS'),\n",
       " ('KINGS OF LEON', 'ONLY BY THE NIGHT'),\n",
       " ('LADY GAGA', 'THE FAME'),\n",
       " ('LEONA LEWIS', 'SPIRIT'),\n",
       " ('MADONNA', 'THE IMMACULATE COLLECTION'),\n",
       " ('MEAT LOAF', 'BAT OUT OF HELL'),\n",
       " ('MICHAEL BUBLE', 'CRAZY LOVE'),\n",
       " ('MICHAEL JACKSON', 'THRILLER'),\n",
       " ('MIKE OLDFIELD', 'TUBULAR BELLS'),\n",
       " ('NORAH JONES', 'COME AWAY WITH ME'),\n",
       " ('OASIS', \"WHAT'S THE STORY MORNING GLORY\"),\n",
       " ('ORIGINAL CAST RECORDING', 'THE SOUND OF MUSIC'),\n",
       " ('ORIGINAL SOUNDTRACK', 'GREASE'),\n",
       " ('PAUL SIMON', 'GRACELAND'),\n",
       " ('PHIL COLLINS', 'BUT SERIOUSLY'),\n",
       " ('PINK FLOYD', 'THE DARK SIDE OF THE MOON'),\n",
       " ('QUEEN', 'GREATEST HITS'),\n",
       " ('REM', 'AUTOMATIC FOR THE PEOPLE'),\n",
       " ('ROBBIE WILLIAMS', \"I'VE BEEN EXPECTING YOU\"),\n",
       " ('SCISSOR SISTERS', 'SCISSOR SISTERS'),\n",
       " ('SHANIA TWAIN', 'COME ON OVER'),\n",
       " ('SIMON & GARFUNKEL', 'BRIDGE OVER TROUBLED WATER'),\n",
       " ('SIMPLY RED', 'STARS'),\n",
       " ('SNOW PATROL', 'EYES OPEN'),\n",
       " ('SPICE GIRLS', 'SPICE'),\n",
       " ('TAKE THAT', 'NEVER FORGET - THE ULTIMATE COLLECTION'),\n",
       " ('TRACY CHAPMAN', 'TRACY CHAPMAN'),\n",
       " ('TRAVIS', 'THE MAN WHO'),\n",
       " ('U2', 'THE JOSHUA TREE'),\n",
       " ('VERVE', 'URBAN HYMNS')]"
      ]
     },
     "execution_count": 139,
     "metadata": {},
     "output_type": "execute_result"
    }
   ],
   "source": [
    "earliest_albums.sort()\n",
    "earliest_albums"
   ]
  },
  {
   "cell_type": "markdown",
   "id": "3a9d7e38",
   "metadata": {},
   "source": [
    "10. Listę zapisz do pliku csv."
   ]
  },
  {
   "cell_type": "code",
   "execution_count": 151,
   "id": "381b636a",
   "metadata": {},
   "outputs": [],
   "source": [
    "df4 = pd.DataFrame(earliest_albums)"
   ]
  },
  {
   "cell_type": "code",
   "execution_count": 155,
   "id": "ae002139",
   "metadata": {},
   "outputs": [],
   "source": [
    "df4.rename({0:'Artysta',1:'Najwczesniejszy_album'}, axis=1, inplace=True)"
   ]
  },
  {
   "cell_type": "code",
   "execution_count": 156,
   "id": "6a0f47fb",
   "metadata": {},
   "outputs": [],
   "source": [
    "df4.to_csv(\"Najwczesniejsze_albumy.csv\", index=False)"
   ]
  }
 ],
 "metadata": {
  "kernelspec": {
   "display_name": "Python 3 (ipykernel)",
   "language": "python",
   "name": "python3"
  },
  "language_info": {
   "codemirror_mode": {
    "name": "ipython",
    "version": 3
   },
   "file_extension": ".py",
   "mimetype": "text/x-python",
   "name": "python",
   "nbconvert_exporter": "python",
   "pygments_lexer": "ipython3",
   "version": "3.9.12"
  },
  "toc": {
   "base_numbering": 1,
   "nav_menu": {},
   "number_sections": true,
   "sideBar": true,
   "skip_h1_title": true,
   "title_cell": "Table of Contents",
   "title_sidebar": "Contents",
   "toc_cell": false,
   "toc_position": {},
   "toc_section_display": true,
   "toc_window_display": false
  },
  "varInspector": {
   "cols": {
    "lenName": 16,
    "lenType": 16,
    "lenVar": 40
   },
   "kernels_config": {
    "python": {
     "delete_cmd_postfix": "",
     "delete_cmd_prefix": "del ",
     "library": "var_list.py",
     "varRefreshCmd": "print(var_dic_list())"
    },
    "r": {
     "delete_cmd_postfix": ") ",
     "delete_cmd_prefix": "rm(",
     "library": "var_list.r",
     "varRefreshCmd": "cat(var_dic_list()) "
    }
   },
   "types_to_exclude": [
    "module",
    "function",
    "builtin_function_or_method",
    "instance",
    "_Feature"
   ],
   "window_display": false
  }
 },
 "nbformat": 4,
 "nbformat_minor": 5
}
