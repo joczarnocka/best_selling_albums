{
 "cells": [
  {
   "cell_type": "code",
   "execution_count": 51,
   "id": "4fdeb171",
   "metadata": {},
   "outputs": [],
   "source": [
    "import pandas as pd"
   ]
  },
  {
   "cell_type": "code",
   "execution_count": 52,
   "id": "f74a0eb1",
   "metadata": {},
   "outputs": [],
   "source": [
    "import ssl\n",
    "\n",
    "ssl._create_default_https_context = ssl._create_unverified_context"
   ]
  },
  {
   "cell_type": "code",
   "execution_count": 53,
   "id": "098ca4ec",
   "metadata": {},
   "outputs": [],
   "source": [
    "data = pd.read_html('https://www.officialcharts.com/chart-news/the-best-selling-albums-of-all-time-on-the-official-uk-chart__15551/', header=0)"
   ]
  },
  {
   "cell_type": "code",
   "execution_count": 54,
   "id": "62eaed95",
   "metadata": {},
   "outputs": [],
   "source": [
    "df = data[0]"
   ]
  },
  {
   "cell_type": "code",
   "execution_count": 55,
   "id": "8588120e",
   "metadata": {},
   "outputs": [
    {
     "data": {
      "text/html": [
       "<div>\n",
       "<style scoped>\n",
       "    .dataframe tbody tr th:only-of-type {\n",
       "        vertical-align: middle;\n",
       "    }\n",
       "\n",
       "    .dataframe tbody tr th {\n",
       "        vertical-align: top;\n",
       "    }\n",
       "\n",
       "    .dataframe thead th {\n",
       "        text-align: right;\n",
       "    }\n",
       "</style>\n",
       "<table border=\"1\" class=\"dataframe\">\n",
       "  <thead>\n",
       "    <tr style=\"text-align: right;\">\n",
       "      <th></th>\n",
       "      <th>POS</th>\n",
       "      <th>TITLE</th>\n",
       "      <th>ARTIST</th>\n",
       "      <th>YEAR</th>\n",
       "      <th>HIGH POSN</th>\n",
       "    </tr>\n",
       "  </thead>\n",
       "  <tbody>\n",
       "    <tr>\n",
       "      <th>0</th>\n",
       "      <td>1</td>\n",
       "      <td>GREATEST HITS</td>\n",
       "      <td>QUEEN</td>\n",
       "      <td>1981</td>\n",
       "      <td>1</td>\n",
       "    </tr>\n",
       "    <tr>\n",
       "      <th>1</th>\n",
       "      <td>2</td>\n",
       "      <td>GOLD - GREATEST HITS</td>\n",
       "      <td>ABBA</td>\n",
       "      <td>1992</td>\n",
       "      <td>1</td>\n",
       "    </tr>\n",
       "    <tr>\n",
       "      <th>2</th>\n",
       "      <td>3</td>\n",
       "      <td>SGT PEPPER'S LONELY HEARTS CLUB BAND</td>\n",
       "      <td>BEATLES</td>\n",
       "      <td>1967</td>\n",
       "      <td>1</td>\n",
       "    </tr>\n",
       "    <tr>\n",
       "      <th>3</th>\n",
       "      <td>4</td>\n",
       "      <td>21</td>\n",
       "      <td>ADELE</td>\n",
       "      <td>2011</td>\n",
       "      <td>1</td>\n",
       "    </tr>\n",
       "    <tr>\n",
       "      <th>4</th>\n",
       "      <td>5</td>\n",
       "      <td>WHAT'S THE STORY MORNING GLORY</td>\n",
       "      <td>OASIS</td>\n",
       "      <td>1995</td>\n",
       "      <td>1</td>\n",
       "    </tr>\n",
       "  </tbody>\n",
       "</table>\n",
       "</div>"
      ],
      "text/plain": [
       "   POS                                 TITLE   ARTIST  YEAR  HIGH POSN\n",
       "0    1                         GREATEST HITS    QUEEN  1981          1\n",
       "1    2                  GOLD - GREATEST HITS     ABBA  1992          1\n",
       "2    3  SGT PEPPER'S LONELY HEARTS CLUB BAND  BEATLES  1967          1\n",
       "3    4                                    21    ADELE  2011          1\n",
       "4    5        WHAT'S THE STORY MORNING GLORY    OASIS  1995          1"
      ]
     },
     "execution_count": 55,
     "metadata": {},
     "output_type": "execute_result"
    }
   ],
   "source": [
    "df.head()"
   ]
  },
  {
   "cell_type": "markdown",
   "id": "e5604cc6",
   "metadata": {},
   "source": [
    "1. Zamień nagłówki kolumn na polskie odpowiedniki:"
   ]
  },
  {
   "cell_type": "code",
   "execution_count": 56,
   "id": "ae66c1c2",
   "metadata": {},
   "outputs": [],
   "source": [
    "df.rename(columns={'TITLE':'TYTUŁ','ARTIST':'ARTYSTA','YEAR':'ROK','HIGH POSN':'MAX POZ'},inplace = True)"
   ]
  },
  {
   "cell_type": "code",
   "execution_count": 57,
   "id": "909e272b",
   "metadata": {},
   "outputs": [
    {
     "data": {
      "text/html": [
       "<div>\n",
       "<style scoped>\n",
       "    .dataframe tbody tr th:only-of-type {\n",
       "        vertical-align: middle;\n",
       "    }\n",
       "\n",
       "    .dataframe tbody tr th {\n",
       "        vertical-align: top;\n",
       "    }\n",
       "\n",
       "    .dataframe thead th {\n",
       "        text-align: right;\n",
       "    }\n",
       "</style>\n",
       "<table border=\"1\" class=\"dataframe\">\n",
       "  <thead>\n",
       "    <tr style=\"text-align: right;\">\n",
       "      <th></th>\n",
       "      <th>POS</th>\n",
       "      <th>TYTUŁ</th>\n",
       "      <th>ARTYSTA</th>\n",
       "      <th>ROK</th>\n",
       "      <th>MAX POZ</th>\n",
       "    </tr>\n",
       "  </thead>\n",
       "  <tbody>\n",
       "    <tr>\n",
       "      <th>0</th>\n",
       "      <td>1</td>\n",
       "      <td>GREATEST HITS</td>\n",
       "      <td>QUEEN</td>\n",
       "      <td>1981</td>\n",
       "      <td>1</td>\n",
       "    </tr>\n",
       "    <tr>\n",
       "      <th>1</th>\n",
       "      <td>2</td>\n",
       "      <td>GOLD - GREATEST HITS</td>\n",
       "      <td>ABBA</td>\n",
       "      <td>1992</td>\n",
       "      <td>1</td>\n",
       "    </tr>\n",
       "    <tr>\n",
       "      <th>2</th>\n",
       "      <td>3</td>\n",
       "      <td>SGT PEPPER'S LONELY HEARTS CLUB BAND</td>\n",
       "      <td>BEATLES</td>\n",
       "      <td>1967</td>\n",
       "      <td>1</td>\n",
       "    </tr>\n",
       "    <tr>\n",
       "      <th>3</th>\n",
       "      <td>4</td>\n",
       "      <td>21</td>\n",
       "      <td>ADELE</td>\n",
       "      <td>2011</td>\n",
       "      <td>1</td>\n",
       "    </tr>\n",
       "    <tr>\n",
       "      <th>4</th>\n",
       "      <td>5</td>\n",
       "      <td>WHAT'S THE STORY MORNING GLORY</td>\n",
       "      <td>OASIS</td>\n",
       "      <td>1995</td>\n",
       "      <td>1</td>\n",
       "    </tr>\n",
       "  </tbody>\n",
       "</table>\n",
       "</div>"
      ],
      "text/plain": [
       "   POS                                 TYTUŁ  ARTYSTA   ROK  MAX POZ\n",
       "0    1                         GREATEST HITS    QUEEN  1981        1\n",
       "1    2                  GOLD - GREATEST HITS     ABBA  1992        1\n",
       "2    3  SGT PEPPER'S LONELY HEARTS CLUB BAND  BEATLES  1967        1\n",
       "3    4                                    21    ADELE  2011        1\n",
       "4    5        WHAT'S THE STORY MORNING GLORY    OASIS  1995        1"
      ]
     },
     "execution_count": 57,
     "metadata": {},
     "output_type": "execute_result"
    }
   ],
   "source": [
    "df.head()"
   ]
  },
  {
   "cell_type": "markdown",
   "id": "815031cd",
   "metadata": {},
   "source": [
    "2. Ilu pojedynczych artystów znajduje się na liście?"
   ]
  },
  {
   "cell_type": "code",
   "execution_count": 58,
   "id": "85c6d1e1",
   "metadata": {},
   "outputs": [
    {
     "data": {
      "text/plain": [
       "47"
      ]
     },
     "execution_count": 58,
     "metadata": {},
     "output_type": "execute_result"
    }
   ],
   "source": [
    "df['ARTYSTA'].nunique()"
   ]
  },
  {
   "cell_type": "markdown",
   "id": "d4ad2bcd",
   "metadata": {},
   "source": [
    "3. Które zespoły pojawiają się najczęściej na liście?"
   ]
  },
  {
   "cell_type": "code",
   "execution_count": 59,
   "id": "ae842fe3",
   "metadata": {},
   "outputs": [
    {
     "data": {
      "text/plain": [
       "COLDPLAY                    3\n",
       "TAKE THAT                   3\n",
       "FLEETWOOD MAC               2\n",
       "ABBA                        2\n",
       "DIDO                        2\n",
       "ORIGINAL SOUNDTRACK         2\n",
       "QUEEN                       2\n",
       "ROBBIE WILLIAMS             2\n",
       "BEATLES                     2\n",
       "MICHAEL JACKSON             2\n",
       "ADELE                       2\n",
       "SNOW PATROL                 1\n",
       "KEANE                       1\n",
       "U2                          1\n",
       "JEFF WAYNE                  1\n",
       "SCISSOR SISTERS             1\n",
       "PHIL COLLINS                1\n",
       "GEORGE MICHAEL              1\n",
       "EMINEM                      1\n",
       "MIKE OLDFIELD               1\n",
       "TRAVIS                      1\n",
       "TRACY CHAPMAN               1\n",
       "ED SHEERAN                  1\n",
       "NORAH JONES                 1\n",
       "PAUL SIMON                  1\n",
       "ORIGINAL CAST RECORDING     1\n",
       "ALANIS MORISSETTE           1\n",
       "CORRS                       1\n",
       "KINGS OF LEON               1\n",
       "BOB MARLEY & THE WAILERS    1\n",
       "OASIS                       1\n",
       "PINK FLOYD                  1\n",
       "DIRE STRAITS                1\n",
       "MADONNA                     1\n",
       "AMY WINEHOUSE               1\n",
       "SIMPLY RED                  1\n",
       "SHANIA TWAIN                1\n",
       "JAMES BLUNT                 1\n",
       "LADY GAGA                   1\n",
       "VERVE                       1\n",
       "MEAT LOAF                   1\n",
       "SIMON & GARFUNKEL           1\n",
       "LEONA LEWIS                 1\n",
       "MICHAEL BUBLE               1\n",
       "DAVID GRAY                  1\n",
       "SPICE GIRLS                 1\n",
       "REM                         1\n",
       "Name: ARTYSTA, dtype: int64"
      ]
     },
     "execution_count": 59,
     "metadata": {},
     "output_type": "execute_result"
    }
   ],
   "source": [
    "df['ARTYSTA'].value_counts()"
   ]
  },
  {
   "cell_type": "markdown",
   "id": "d4c4eb99",
   "metadata": {},
   "source": [
    "4. Zmień nagłówki kolumn, tak aby każdy z nich rozpoczynał się od wielkiej litery, a pozostałe były wprowadzone małymi literami."
   ]
  },
  {
   "cell_type": "code",
   "execution_count": 60,
   "id": "2891334c",
   "metadata": {},
   "outputs": [
    {
     "data": {
      "text/html": [
       "<div>\n",
       "<style scoped>\n",
       "    .dataframe tbody tr th:only-of-type {\n",
       "        vertical-align: middle;\n",
       "    }\n",
       "\n",
       "    .dataframe tbody tr th {\n",
       "        vertical-align: top;\n",
       "    }\n",
       "\n",
       "    .dataframe thead th {\n",
       "        text-align: right;\n",
       "    }\n",
       "</style>\n",
       "<table border=\"1\" class=\"dataframe\">\n",
       "  <thead>\n",
       "    <tr style=\"text-align: right;\">\n",
       "      <th></th>\n",
       "      <th>Pos</th>\n",
       "      <th>Tytuł</th>\n",
       "      <th>Artysta</th>\n",
       "      <th>Rok</th>\n",
       "      <th>Max poz</th>\n",
       "    </tr>\n",
       "  </thead>\n",
       "  <tbody>\n",
       "    <tr>\n",
       "      <th>0</th>\n",
       "      <td>1</td>\n",
       "      <td>GREATEST HITS</td>\n",
       "      <td>QUEEN</td>\n",
       "      <td>1981</td>\n",
       "      <td>1</td>\n",
       "    </tr>\n",
       "    <tr>\n",
       "      <th>1</th>\n",
       "      <td>2</td>\n",
       "      <td>GOLD - GREATEST HITS</td>\n",
       "      <td>ABBA</td>\n",
       "      <td>1992</td>\n",
       "      <td>1</td>\n",
       "    </tr>\n",
       "    <tr>\n",
       "      <th>2</th>\n",
       "      <td>3</td>\n",
       "      <td>SGT PEPPER'S LONELY HEARTS CLUB BAND</td>\n",
       "      <td>BEATLES</td>\n",
       "      <td>1967</td>\n",
       "      <td>1</td>\n",
       "    </tr>\n",
       "    <tr>\n",
       "      <th>3</th>\n",
       "      <td>4</td>\n",
       "      <td>21</td>\n",
       "      <td>ADELE</td>\n",
       "      <td>2011</td>\n",
       "      <td>1</td>\n",
       "    </tr>\n",
       "    <tr>\n",
       "      <th>4</th>\n",
       "      <td>5</td>\n",
       "      <td>WHAT'S THE STORY MORNING GLORY</td>\n",
       "      <td>OASIS</td>\n",
       "      <td>1995</td>\n",
       "      <td>1</td>\n",
       "    </tr>\n",
       "  </tbody>\n",
       "</table>\n",
       "</div>"
      ],
      "text/plain": [
       "   Pos                                 Tytuł  Artysta   Rok  Max poz\n",
       "0    1                         GREATEST HITS    QUEEN  1981        1\n",
       "1    2                  GOLD - GREATEST HITS     ABBA  1992        1\n",
       "2    3  SGT PEPPER'S LONELY HEARTS CLUB BAND  BEATLES  1967        1\n",
       "3    4                                    21    ADELE  2011        1\n",
       "4    5        WHAT'S THE STORY MORNING GLORY    OASIS  1995        1"
      ]
     },
     "execution_count": 60,
     "metadata": {},
     "output_type": "execute_result"
    }
   ],
   "source": [
    "df.rename(str.capitalize, axis='columns',inplace = True)\n",
    "df.head()"
   ]
  },
  {
   "cell_type": "markdown",
   "id": "1a85e5d7",
   "metadata": {},
   "source": [
    "5. Wyrzuć z tabeli kolumnę ‘Max Poz’"
   ]
  },
  {
   "cell_type": "code",
   "execution_count": 61,
   "id": "951e5a12",
   "metadata": {},
   "outputs": [
    {
     "data": {
      "text/html": [
       "<div>\n",
       "<style scoped>\n",
       "    .dataframe tbody tr th:only-of-type {\n",
       "        vertical-align: middle;\n",
       "    }\n",
       "\n",
       "    .dataframe tbody tr th {\n",
       "        vertical-align: top;\n",
       "    }\n",
       "\n",
       "    .dataframe thead th {\n",
       "        text-align: right;\n",
       "    }\n",
       "</style>\n",
       "<table border=\"1\" class=\"dataframe\">\n",
       "  <thead>\n",
       "    <tr style=\"text-align: right;\">\n",
       "      <th></th>\n",
       "      <th>Pos</th>\n",
       "      <th>Tytuł</th>\n",
       "      <th>Artysta</th>\n",
       "      <th>Rok</th>\n",
       "    </tr>\n",
       "  </thead>\n",
       "  <tbody>\n",
       "    <tr>\n",
       "      <th>0</th>\n",
       "      <td>1</td>\n",
       "      <td>GREATEST HITS</td>\n",
       "      <td>QUEEN</td>\n",
       "      <td>1981</td>\n",
       "    </tr>\n",
       "    <tr>\n",
       "      <th>1</th>\n",
       "      <td>2</td>\n",
       "      <td>GOLD - GREATEST HITS</td>\n",
       "      <td>ABBA</td>\n",
       "      <td>1992</td>\n",
       "    </tr>\n",
       "    <tr>\n",
       "      <th>2</th>\n",
       "      <td>3</td>\n",
       "      <td>SGT PEPPER'S LONELY HEARTS CLUB BAND</td>\n",
       "      <td>BEATLES</td>\n",
       "      <td>1967</td>\n",
       "    </tr>\n",
       "    <tr>\n",
       "      <th>3</th>\n",
       "      <td>4</td>\n",
       "      <td>21</td>\n",
       "      <td>ADELE</td>\n",
       "      <td>2011</td>\n",
       "    </tr>\n",
       "    <tr>\n",
       "      <th>4</th>\n",
       "      <td>5</td>\n",
       "      <td>WHAT'S THE STORY MORNING GLORY</td>\n",
       "      <td>OASIS</td>\n",
       "      <td>1995</td>\n",
       "    </tr>\n",
       "  </tbody>\n",
       "</table>\n",
       "</div>"
      ],
      "text/plain": [
       "   Pos                                 Tytuł  Artysta   Rok\n",
       "0    1                         GREATEST HITS    QUEEN  1981\n",
       "1    2                  GOLD - GREATEST HITS     ABBA  1992\n",
       "2    3  SGT PEPPER'S LONELY HEARTS CLUB BAND  BEATLES  1967\n",
       "3    4                                    21    ADELE  2011\n",
       "4    5        WHAT'S THE STORY MORNING GLORY    OASIS  1995"
      ]
     },
     "execution_count": 61,
     "metadata": {},
     "output_type": "execute_result"
    }
   ],
   "source": [
    "df.drop('Max poz',axis='columns', inplace=True)\n",
    "df.head()"
   ]
  },
  {
   "cell_type": "markdown",
   "id": "19ac2608",
   "metadata": {},
   "source": [
    "6. W którym roku wyszło najwięcej albumów znajdujących się na liście?"
   ]
  },
  {
   "cell_type": "code",
   "execution_count": 62,
   "id": "05b5c683",
   "metadata": {},
   "outputs": [
    {
     "data": {
      "text/plain": [
       "2000    4\n",
       "1987    4\n",
       "2006    3\n",
       "1977    3\n",
       "1998    3\n",
       "2004    3\n",
       "1997    3\n",
       "2008    2\n",
       "2005    2\n",
       "1992    2\n",
       "2002    2\n",
       "1991    2\n",
       "1973    2\n",
       "1995    2\n",
       "1975    1\n",
       "2003    1\n",
       "1988    1\n",
       "2014    1\n",
       "1999    1\n",
       "1986    1\n",
       "1965    1\n",
       "1989    1\n",
       "1978    1\n",
       "2001    1\n",
       "1981    1\n",
       "2007    1\n",
       "1996    1\n",
       "2015    1\n",
       "2009    1\n",
       "1970    1\n",
       "1984    1\n",
       "1990    1\n",
       "1985    1\n",
       "1982    1\n",
       "2011    1\n",
       "1967    1\n",
       "2010    1\n",
       "Name: Rok, dtype: int64"
      ]
     },
     "execution_count": 62,
     "metadata": {},
     "output_type": "execute_result"
    }
   ],
   "source": [
    "df['Rok'].value_counts()"
   ]
  },
  {
   "cell_type": "markdown",
   "id": "6ad533e8",
   "metadata": {},
   "source": [
    "7. Ile albumów wydanych między 1960 a 1990 rokiem włącznie znajduje się na liście?"
   ]
  },
  {
   "cell_type": "code",
   "execution_count": 63,
   "id": "84cd145e",
   "metadata": {},
   "outputs": [
    {
     "data": {
      "text/plain": [
       "22"
      ]
     },
     "execution_count": 63,
     "metadata": {},
     "output_type": "execute_result"
    }
   ],
   "source": [
    "df[(df['Rok']>=1960) & (df['Rok']<=1990)]['Pos'].nunique()"
   ]
  },
  {
   "cell_type": "markdown",
   "id": "d976bc25",
   "metadata": {},
   "source": [
    "8. W którym roku wydany został najmłodszy album na liście?"
   ]
  },
  {
   "cell_type": "code",
   "execution_count": 64,
   "id": "f55ddd0c",
   "metadata": {},
   "outputs": [
    {
     "data": {
      "text/plain": [
       "2015"
      ]
     },
     "execution_count": 64,
     "metadata": {},
     "output_type": "execute_result"
    }
   ],
   "source": [
    "df.sort_values(by='Rok', ascending=False).head(1)['Rok'].reset_index()._get_value(0, 'Rok')"
   ]
  },
  {
   "cell_type": "markdown",
   "id": "30714258",
   "metadata": {},
   "source": [
    "9. Przygotuj listę najwcześniej wydanych albumów każdego artysty, który znalazł się na liście."
   ]
  },
  {
   "cell_type": "code",
   "execution_count": 70,
   "id": "1977e932",
   "metadata": {
    "scrolled": true
   },
   "outputs": [
    {
     "data": {
      "text/html": [
       "<div>\n",
       "<style scoped>\n",
       "    .dataframe tbody tr th:only-of-type {\n",
       "        vertical-align: middle;\n",
       "    }\n",
       "\n",
       "    .dataframe tbody tr th {\n",
       "        vertical-align: top;\n",
       "    }\n",
       "\n",
       "    .dataframe thead th {\n",
       "        text-align: right;\n",
       "    }\n",
       "</style>\n",
       "<table border=\"1\" class=\"dataframe\">\n",
       "  <thead>\n",
       "    <tr style=\"text-align: right;\">\n",
       "      <th></th>\n",
       "      <th>Artysta</th>\n",
       "      <th>Najstarszy album</th>\n",
       "    </tr>\n",
       "  </thead>\n",
       "  <tbody>\n",
       "    <tr>\n",
       "      <th>0</th>\n",
       "      <td>ABBA</td>\n",
       "      <td>GREATEST HITS</td>\n",
       "    </tr>\n",
       "    <tr>\n",
       "      <th>1</th>\n",
       "      <td>ADELE</td>\n",
       "      <td>21</td>\n",
       "    </tr>\n",
       "    <tr>\n",
       "      <th>2</th>\n",
       "      <td>ALANIS MORISSETTE</td>\n",
       "      <td>JAGGED LITTLE PILL</td>\n",
       "    </tr>\n",
       "    <tr>\n",
       "      <th>3</th>\n",
       "      <td>AMY WINEHOUSE</td>\n",
       "      <td>BACK TO BLACK</td>\n",
       "    </tr>\n",
       "    <tr>\n",
       "      <th>4</th>\n",
       "      <td>BEATLES</td>\n",
       "      <td>SGT PEPPER'S LONELY HEARTS CLUB BAND</td>\n",
       "    </tr>\n",
       "    <tr>\n",
       "      <th>5</th>\n",
       "      <td>BOB MARLEY &amp; THE WAILERS</td>\n",
       "      <td>LEGEND</td>\n",
       "    </tr>\n",
       "    <tr>\n",
       "      <th>6</th>\n",
       "      <td>COLDPLAY</td>\n",
       "      <td>PARACHUTES</td>\n",
       "    </tr>\n",
       "    <tr>\n",
       "      <th>7</th>\n",
       "      <td>CORRS</td>\n",
       "      <td>TALK ON CORNERS</td>\n",
       "    </tr>\n",
       "    <tr>\n",
       "      <th>8</th>\n",
       "      <td>DAVID GRAY</td>\n",
       "      <td>WHITE LADDER</td>\n",
       "    </tr>\n",
       "    <tr>\n",
       "      <th>9</th>\n",
       "      <td>DIDO</td>\n",
       "      <td>NO ANGEL</td>\n",
       "    </tr>\n",
       "    <tr>\n",
       "      <th>10</th>\n",
       "      <td>DIRE STRAITS</td>\n",
       "      <td>BROTHERS IN ARMS</td>\n",
       "    </tr>\n",
       "    <tr>\n",
       "      <th>11</th>\n",
       "      <td>ED SHEERAN</td>\n",
       "      <td>X</td>\n",
       "    </tr>\n",
       "    <tr>\n",
       "      <th>12</th>\n",
       "      <td>EMINEM</td>\n",
       "      <td>THE MARSHALL MATHERS LP</td>\n",
       "    </tr>\n",
       "    <tr>\n",
       "      <th>13</th>\n",
       "      <td>FLEETWOOD MAC</td>\n",
       "      <td>RUMOURS</td>\n",
       "    </tr>\n",
       "    <tr>\n",
       "      <th>14</th>\n",
       "      <td>GEORGE MICHAEL</td>\n",
       "      <td>LADIES &amp; GENTLEMEN - THE BEST OF</td>\n",
       "    </tr>\n",
       "    <tr>\n",
       "      <th>15</th>\n",
       "      <td>JAMES BLUNT</td>\n",
       "      <td>BACK TO BEDLAM</td>\n",
       "    </tr>\n",
       "    <tr>\n",
       "      <th>16</th>\n",
       "      <td>JEFF WAYNE</td>\n",
       "      <td>THE WAR OF THE WORLDS</td>\n",
       "    </tr>\n",
       "    <tr>\n",
       "      <th>17</th>\n",
       "      <td>KEANE</td>\n",
       "      <td>HOPES AND FEARS</td>\n",
       "    </tr>\n",
       "    <tr>\n",
       "      <th>18</th>\n",
       "      <td>KINGS OF LEON</td>\n",
       "      <td>ONLY BY THE NIGHT</td>\n",
       "    </tr>\n",
       "    <tr>\n",
       "      <th>19</th>\n",
       "      <td>LADY GAGA</td>\n",
       "      <td>THE FAME</td>\n",
       "    </tr>\n",
       "    <tr>\n",
       "      <th>20</th>\n",
       "      <td>LEONA LEWIS</td>\n",
       "      <td>SPIRIT</td>\n",
       "    </tr>\n",
       "    <tr>\n",
       "      <th>21</th>\n",
       "      <td>MADONNA</td>\n",
       "      <td>THE IMMACULATE COLLECTION</td>\n",
       "    </tr>\n",
       "    <tr>\n",
       "      <th>22</th>\n",
       "      <td>MEAT LOAF</td>\n",
       "      <td>BAT OUT OF HELL</td>\n",
       "    </tr>\n",
       "    <tr>\n",
       "      <th>23</th>\n",
       "      <td>MICHAEL BUBLE</td>\n",
       "      <td>CRAZY LOVE</td>\n",
       "    </tr>\n",
       "    <tr>\n",
       "      <th>24</th>\n",
       "      <td>MICHAEL JACKSON</td>\n",
       "      <td>THRILLER</td>\n",
       "    </tr>\n",
       "    <tr>\n",
       "      <th>25</th>\n",
       "      <td>MIKE OLDFIELD</td>\n",
       "      <td>TUBULAR BELLS</td>\n",
       "    </tr>\n",
       "    <tr>\n",
       "      <th>26</th>\n",
       "      <td>NORAH JONES</td>\n",
       "      <td>COME AWAY WITH ME</td>\n",
       "    </tr>\n",
       "    <tr>\n",
       "      <th>27</th>\n",
       "      <td>OASIS</td>\n",
       "      <td>WHAT'S THE STORY MORNING GLORY</td>\n",
       "    </tr>\n",
       "    <tr>\n",
       "      <th>28</th>\n",
       "      <td>ORIGINAL CAST RECORDING</td>\n",
       "      <td>THE SOUND OF MUSIC</td>\n",
       "    </tr>\n",
       "    <tr>\n",
       "      <th>29</th>\n",
       "      <td>ORIGINAL SOUNDTRACK</td>\n",
       "      <td>GREASE</td>\n",
       "    </tr>\n",
       "    <tr>\n",
       "      <th>30</th>\n",
       "      <td>PAUL SIMON</td>\n",
       "      <td>GRACELAND</td>\n",
       "    </tr>\n",
       "    <tr>\n",
       "      <th>31</th>\n",
       "      <td>PHIL COLLINS</td>\n",
       "      <td>BUT SERIOUSLY</td>\n",
       "    </tr>\n",
       "    <tr>\n",
       "      <th>32</th>\n",
       "      <td>PINK FLOYD</td>\n",
       "      <td>THE DARK SIDE OF THE MOON</td>\n",
       "    </tr>\n",
       "    <tr>\n",
       "      <th>33</th>\n",
       "      <td>QUEEN</td>\n",
       "      <td>GREATEST HITS</td>\n",
       "    </tr>\n",
       "    <tr>\n",
       "      <th>34</th>\n",
       "      <td>REM</td>\n",
       "      <td>AUTOMATIC FOR THE PEOPLE</td>\n",
       "    </tr>\n",
       "    <tr>\n",
       "      <th>35</th>\n",
       "      <td>ROBBIE WILLIAMS</td>\n",
       "      <td>I'VE BEEN EXPECTING YOU</td>\n",
       "    </tr>\n",
       "    <tr>\n",
       "      <th>36</th>\n",
       "      <td>SCISSOR SISTERS</td>\n",
       "      <td>SCISSOR SISTERS</td>\n",
       "    </tr>\n",
       "    <tr>\n",
       "      <th>37</th>\n",
       "      <td>SHANIA TWAIN</td>\n",
       "      <td>COME ON OVER</td>\n",
       "    </tr>\n",
       "    <tr>\n",
       "      <th>38</th>\n",
       "      <td>SIMON &amp; GARFUNKEL</td>\n",
       "      <td>BRIDGE OVER TROUBLED WATER</td>\n",
       "    </tr>\n",
       "    <tr>\n",
       "      <th>39</th>\n",
       "      <td>SIMPLY RED</td>\n",
       "      <td>STARS</td>\n",
       "    </tr>\n",
       "    <tr>\n",
       "      <th>40</th>\n",
       "      <td>SNOW PATROL</td>\n",
       "      <td>EYES OPEN</td>\n",
       "    </tr>\n",
       "    <tr>\n",
       "      <th>41</th>\n",
       "      <td>SPICE GIRLS</td>\n",
       "      <td>SPICE</td>\n",
       "    </tr>\n",
       "    <tr>\n",
       "      <th>42</th>\n",
       "      <td>TAKE THAT</td>\n",
       "      <td>NEVER FORGET - THE ULTIMATE COLLECTION</td>\n",
       "    </tr>\n",
       "    <tr>\n",
       "      <th>43</th>\n",
       "      <td>TRACY CHAPMAN</td>\n",
       "      <td>TRACY CHAPMAN</td>\n",
       "    </tr>\n",
       "    <tr>\n",
       "      <th>44</th>\n",
       "      <td>TRAVIS</td>\n",
       "      <td>THE MAN WHO</td>\n",
       "    </tr>\n",
       "    <tr>\n",
       "      <th>45</th>\n",
       "      <td>U2</td>\n",
       "      <td>THE JOSHUA TREE</td>\n",
       "    </tr>\n",
       "    <tr>\n",
       "      <th>46</th>\n",
       "      <td>VERVE</td>\n",
       "      <td>URBAN HYMNS</td>\n",
       "    </tr>\n",
       "  </tbody>\n",
       "</table>\n",
       "</div>"
      ],
      "text/plain": [
       "                     Artysta                        Najstarszy album\n",
       "0                       ABBA                           GREATEST HITS\n",
       "1                      ADELE                                      21\n",
       "2          ALANIS MORISSETTE                      JAGGED LITTLE PILL\n",
       "3              AMY WINEHOUSE                           BACK TO BLACK\n",
       "4                    BEATLES    SGT PEPPER'S LONELY HEARTS CLUB BAND\n",
       "5   BOB MARLEY & THE WAILERS                                  LEGEND\n",
       "6                   COLDPLAY                              PARACHUTES\n",
       "7                      CORRS                         TALK ON CORNERS\n",
       "8                 DAVID GRAY                            WHITE LADDER\n",
       "9                       DIDO                                NO ANGEL\n",
       "10              DIRE STRAITS                        BROTHERS IN ARMS\n",
       "11                ED SHEERAN                                       X\n",
       "12                    EMINEM                 THE MARSHALL MATHERS LP\n",
       "13             FLEETWOOD MAC                                 RUMOURS\n",
       "14            GEORGE MICHAEL        LADIES & GENTLEMEN - THE BEST OF\n",
       "15               JAMES BLUNT                          BACK TO BEDLAM\n",
       "16                JEFF WAYNE                   THE WAR OF THE WORLDS\n",
       "17                     KEANE                         HOPES AND FEARS\n",
       "18             KINGS OF LEON                       ONLY BY THE NIGHT\n",
       "19                 LADY GAGA                                THE FAME\n",
       "20               LEONA LEWIS                                  SPIRIT\n",
       "21                   MADONNA               THE IMMACULATE COLLECTION\n",
       "22                 MEAT LOAF                         BAT OUT OF HELL\n",
       "23             MICHAEL BUBLE                              CRAZY LOVE\n",
       "24           MICHAEL JACKSON                                THRILLER\n",
       "25             MIKE OLDFIELD                           TUBULAR BELLS\n",
       "26               NORAH JONES                       COME AWAY WITH ME\n",
       "27                     OASIS          WHAT'S THE STORY MORNING GLORY\n",
       "28   ORIGINAL CAST RECORDING                      THE SOUND OF MUSIC\n",
       "29       ORIGINAL SOUNDTRACK                                  GREASE\n",
       "30                PAUL SIMON                               GRACELAND\n",
       "31              PHIL COLLINS                           BUT SERIOUSLY\n",
       "32                PINK FLOYD               THE DARK SIDE OF THE MOON\n",
       "33                     QUEEN                           GREATEST HITS\n",
       "34                       REM                AUTOMATIC FOR THE PEOPLE\n",
       "35           ROBBIE WILLIAMS                 I'VE BEEN EXPECTING YOU\n",
       "36           SCISSOR SISTERS                         SCISSOR SISTERS\n",
       "37              SHANIA TWAIN                            COME ON OVER\n",
       "38         SIMON & GARFUNKEL              BRIDGE OVER TROUBLED WATER\n",
       "39                SIMPLY RED                                   STARS\n",
       "40               SNOW PATROL                               EYES OPEN\n",
       "41               SPICE GIRLS                                   SPICE\n",
       "42                 TAKE THAT  NEVER FORGET - THE ULTIMATE COLLECTION\n",
       "43             TRACY CHAPMAN                           TRACY CHAPMAN\n",
       "44                    TRAVIS                             THE MAN WHO\n",
       "45                        U2                         THE JOSHUA TREE\n",
       "46                     VERVE                             URBAN HYMNS"
      ]
     },
     "execution_count": 70,
     "metadata": {},
     "output_type": "execute_result"
    }
   ],
   "source": [
    "df9 = df.sort_values(by=['Artysta','Rok'], ascending=[True, True]).drop_duplicates('Artysta')\n",
    "earliest_albums = df9[['Artysta','Tytuł']]\n",
    "earliest_albums = earliest_albums.reset_index().drop('index',axis=1)\n",
    "earliest_albums.rename(columns={'Tytuł':'Najstarszy album'}, inplace=True)\n",
    "earliest_albums"
   ]
  },
  {
   "cell_type": "markdown",
   "id": "3a9d7e38",
   "metadata": {},
   "source": [
    "10. Listę zapisz do pliku csv."
   ]
  },
  {
   "cell_type": "code",
   "execution_count": 73,
   "id": "a53ef87e",
   "metadata": {},
   "outputs": [],
   "source": [
    "earliest_albums.to_csv(\"Najstarsze_albumy.csv\", index=False)"
   ]
  }
 ],
 "metadata": {
  "kernelspec": {
   "display_name": "Python 3 (ipykernel)",
   "language": "python",
   "name": "python3"
  },
  "language_info": {
   "codemirror_mode": {
    "name": "ipython",
    "version": 3
   },
   "file_extension": ".py",
   "mimetype": "text/x-python",
   "name": "python",
   "nbconvert_exporter": "python",
   "pygments_lexer": "ipython3",
   "version": "3.9.12"
  },
  "toc": {
   "base_numbering": 1,
   "nav_menu": {},
   "number_sections": true,
   "sideBar": true,
   "skip_h1_title": true,
   "title_cell": "Table of Contents",
   "title_sidebar": "Contents",
   "toc_cell": false,
   "toc_position": {},
   "toc_section_display": true,
   "toc_window_display": false
  },
  "varInspector": {
   "cols": {
    "lenName": 16,
    "lenType": 16,
    "lenVar": 40
   },
   "kernels_config": {
    "python": {
     "delete_cmd_postfix": "",
     "delete_cmd_prefix": "del ",
     "library": "var_list.py",
     "varRefreshCmd": "print(var_dic_list())"
    },
    "r": {
     "delete_cmd_postfix": ") ",
     "delete_cmd_prefix": "rm(",
     "library": "var_list.r",
     "varRefreshCmd": "cat(var_dic_list()) "
    }
   },
   "types_to_exclude": [
    "module",
    "function",
    "builtin_function_or_method",
    "instance",
    "_Feature"
   ],
   "window_display": false
  }
 },
 "nbformat": 4,
 "nbformat_minor": 5
}
